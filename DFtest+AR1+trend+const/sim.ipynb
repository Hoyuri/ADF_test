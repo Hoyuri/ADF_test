{
 "cells": [
  {
   "cell_type": "code",
   "execution_count": 9,
   "metadata": {},
   "outputs": [],
   "source": [
    "import numpy as np\n",
    "import matplotlib.pyplot as plt\n",
    "import scipy.stats as stats\n",
    "import pandas as pd\n",
    "from tqdm import tqdm"
   ]
  },
  {
   "cell_type": "code",
   "execution_count": 10,
   "metadata": {},
   "outputs": [
    {
     "name": "stderr",
     "output_type": "stream",
     "text": [
      "100%|██████████| 1000000/1000000 [07:26<00:00, 2240.73it/s]\n"
     ]
    },
    {
     "data": {
      "text/plain": [
       "<matplotlib.lines.Line2D at 0x2b00a129408>"
      ]
     },
     "execution_count": 10,
     "metadata": {},
     "output_type": "execute_result"
    },
    {
     "data": {
      "image/png": "[encoded data removed]",
      "text/plain": [
       "<Figure size 432x288 with 1 Axes>"
      ]
     },
     "metadata": {
      "needs_background": "light"
     },
     "output_type": "display_data"
    }
   ],
   "source": [
    "rep_l = 1000000\n",
    "adftest_l = np.ones(rep_l)\n",
    "\n",
    "# simulate\n",
    "T = 10000\n",
    "for i in tqdm(range(0,rep_l)):\n",
    "# for i in range(0,rep_l):\n",
    "    u = np.random.normal(loc=0,scale=1,size=T)\n",
    "    W = 1/np.sqrt(T)*np.cumsum(u)\n",
    "    W[0] = 0\n",
    "\n",
    "    r = np.linspace(0, 1, len(W)) # portion\n",
    "\n",
    "    detQ = 1/12 * 1/T * np.sum(W**2) + 1/T * np.sum(W*r) * 1/T * np.sum(W) -\\\n",
    "        (1/T * np.sum(W*r))**2 - 1/3 * (1/T * np.sum(W)) ** 2\n",
    "\n",
    "    denom = W[T-1] * (1/2 * 1/T * np.sum(W*r) - 1/3 * 1/T * np.sum(W)) + \\\n",
    "        1/2 * (W[T-1] ** 2 - 1) * 1/12 + \\\n",
    "        (1/2 * 1/T * np.sum(W) - 1/T * np.sum(W*r)) * (W[T-1] - 1/T * np.sum(W))\n",
    "\n",
    "    adftest_l[i] = denom / np.sqrt(detQ / 12)\n",
    "    \n",
    "# plot 1\n",
    "n, x, _ = plt.hist(adftest_l, bins=1000,\n",
    "                   histtype=u'step', density=True)  \n",
    "plt.axvline(np.mean(adftest_l),c=\"red\")\n",
    "plt.axvline(np.median(adftest_l),c=\"green\")"
   ]
  },
  {
   "cell_type": "code",
   "execution_count": 12,
   "metadata": {},
   "outputs": [],
   "source": [
    "pd.DataFrame({\n",
    "    \"statistics\":adftest_l\n",
    "}).to_csv(\"simulated_dist.csv\")"
   ]
  },
  {
   "cell_type": "code",
   "execution_count": 11,
   "metadata": {},
   "outputs": [
    {
     "data": {
      "text/plain": [
       "[<matplotlib.lines.Line2D at 0x2b00a17fa08>]"
      ]
     },
     "execution_count": 11,
     "metadata": {},
     "output_type": "execute_result"
    },
    {
     "data": {
      "image/png": "[encoded data removed]",
      "text/plain": [
       "<Figure size 432x288 with 1 Axes>"
      ]
     },
     "metadata": {
      "needs_background": "light"
     },
     "output_type": "display_data"
    }
   ],
   "source": [
    "# Plot 2\n",
    "density = stats.gaussian_kde(adftest_l)\n",
    "plt.plot(x, density(x))"
   ]
  },
  {
   "cell_type": "code",
   "execution_count": 14,
   "metadata": {},
   "outputs": [
    {
     "name": "stdout",
     "output_type": "stream",
     "text": [
      "|   Critical Point |   Test Stat |\n",
      "|-----------------:|------------:|\n",
      "|              1   |   -3.97002  |\n",
      "|              2.5 |   -3.66935  |\n",
      "|              5   |   -3.41646  |\n",
      "|             10   |   -3.12785  |\n",
      "|             20   |   -2.79376  |\n",
      "|             50   |   -2.18089  |\n",
      "|             80   |   -1.58191  |\n",
      "|             90   |   -1.24762  |\n",
      "|             95   |   -0.940853 |\n",
      "|             97.5 |   -0.663412 |\n",
      "|             99   |   -0.330879 |\n"
     ]
    }
   ],
   "source": [
    "cr_pt = [1,2.5,5,10,20,50,80,90,95,97.5,99]\n",
    "print(pd.DataFrame({\n",
    "    \"Critical Point\":cr_pt,\n",
    "    \"Test Stat\":np.percentile(a=adftest_l,q=cr_pt)\n",
    "}).to_markdown(index=None))"
   ]
  }
 ],
 "metadata": {
  "interpreter": {
   "hash": "5109d816b82be14675a6b11f8e0f0d2e80f029176ed3710d54e125caa8520dfd"
  },
  "kernelspec": {
   "display_name": "Python 3.7.8 64-bit",
   "language": "python",
   "name": "python3"
  },
  "language_info": {
   "codemirror_mode": {
    "name": "ipython",
    "version": 3
   },
   "file_extension": ".py",
   "mimetype": "text/x-python",
   "name": "python",
   "nbconvert_exporter": "python",
   "pygments_lexer": "ipython3",
   "version": "3.7.8"
  },
  "orig_nbformat": 4
 },
 "nbformat": 4,
 "nbformat_minor": 2
}
